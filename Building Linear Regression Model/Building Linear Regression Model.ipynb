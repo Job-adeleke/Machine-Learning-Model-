{
 "cells": [
  {
   "cell_type": "markdown",
   "id": "e14af38f-18ad-47ac-8c68-bd147b9a17bc",
   "metadata": {},
   "source": [
    "Importing numpy library"
   ]
  },
  {
   "cell_type": "code",
   "execution_count": 4,
   "id": "fc01d3d9-c2b9-4b28-ab2a-b7b6c69b1b98",
   "metadata": {},
   "outputs": [],
   "source": [
    "import numpy as np"
   ]
  },
  {
   "cell_type": "markdown",
   "id": "bb89d407-058a-4fbf-917d-de26b90c9286",
   "metadata": {},
   "source": [
    "Linear Regression Model"
   ]
  },
  {
   "cell_type": "code",
   "execution_count": 7,
   "id": "bdb46769-f2cd-4e23-975e-9783ff6173d0",
   "metadata": {},
   "outputs": [],
   "source": [
    "class Linear_Regression: \n",
    "    # initiating the parameters (learning rate & no_of_iterations)\n",
    "    def __init__(self, learning_rate, no_of_iterations):\n",
    "        self.learning_rate = learning_rate\n",
    "        self.no_of_iterations = no_of_iterations\n",
    "\n",
    "    def fit(self, X, Y) :\n",
    "\n",
    "        # number of training examples (m) # number of features (n)\n",
    "\n",
    "        self.m, self.n = X.shape # number of rows & columns \n",
    "\n",
    "        # initiating the weight and bias\n",
    "\n",
    "        self.w = np.zeros(self.n)\n",
    "        self.b = 0\n",
    "        self.X = X\n",
    "        self.Y = Y\n",
    "\n",
    "        # implementing gradient descent \n",
    "        for i in range (self.no_of_iterations):\n",
    "            self.update_weights ()\n",
    "\n",
    "    def update_weights(self):\n",
    "        Y_prediction = self.predict(self.X)\n",
    "\n",
    "        # calculate the gradient \n",
    "\n",
    "        dw = - (2 * (self.X.T).dot(self.Y - Y_prediction)) / self.m\n",
    "\n",
    "        db = - 2 * np.sum(self.Y - Y_prediction) / self.m\n",
    "\n",
    "        # updating the weights\n",
    "\n",
    "        self.w = self.w - self.learning_rate*dw\n",
    "        self.b = self.b - self.learning_rate*db\n",
    "        \n",
    "\n",
    "    def predict(self, X):\n",
    "\n",
    "        return X.dot(self.w) + self.b"
   ]
  },
  {
   "cell_type": "markdown",
   "id": "33c091a0-8fa3-46c9-b58a-9a0ba3795031",
   "metadata": {},
   "source": [
    "Using Linear Regression Model "
   ]
  },
  {
   "cell_type": "code",
   "execution_count": 10,
   "id": "9e3e654e-eaf1-4813-8066-c29c232bac66",
   "metadata": {},
   "outputs": [],
   "source": [
    "# importing the dependencies \n",
    "\n",
    "import pandas as pd\n",
    "from sklearn.model_selection import train_test_split\n",
    "import matplotlib.pyplot as plt\n"
   ]
  },
  {
   "cell_type": "code",
   "execution_count": 11,
   "id": "cec4b77a-5507-40bf-a1e6-f1bdfb67f25b",
   "metadata": {},
   "outputs": [],
   "source": [
    "# data preprocessing \n",
    "\n",
    "data_linear = pd.read_csv(\"salary_data.csv\")"
   ]
  },
  {
   "cell_type": "code",
   "execution_count": 12,
   "id": "36612c8f-db2b-4d5e-bb0d-efd1d5af6e4e",
   "metadata": {},
   "outputs": [
    {
     "data": {
      "text/plain": [
       "(30, 2)"
      ]
     },
     "execution_count": 12,
     "metadata": {},
     "output_type": "execute_result"
    }
   ],
   "source": [
    "data_linear.shape"
   ]
  },
  {
   "cell_type": "code",
   "execution_count": 13,
   "id": "66daa8e3-6abc-4789-a04a-8d74897f3405",
   "metadata": {},
   "outputs": [
    {
     "data": {
      "text/html": [
       "<div>\n",
       "<style scoped>\n",
       "    .dataframe tbody tr th:only-of-type {\n",
       "        vertical-align: middle;\n",
       "    }\n",
       "\n",
       "    .dataframe tbody tr th {\n",
       "        vertical-align: top;\n",
       "    }\n",
       "\n",
       "    .dataframe thead th {\n",
       "        text-align: right;\n",
       "    }\n",
       "</style>\n",
       "<table border=\"1\" class=\"dataframe\">\n",
       "  <thead>\n",
       "    <tr style=\"text-align: right;\">\n",
       "      <th></th>\n",
       "      <th>YearsExperience</th>\n",
       "      <th>Salary</th>\n",
       "    </tr>\n",
       "  </thead>\n",
       "  <tbody>\n",
       "    <tr>\n",
       "      <th>0</th>\n",
       "      <td>1.1</td>\n",
       "      <td>39343</td>\n",
       "    </tr>\n",
       "    <tr>\n",
       "      <th>1</th>\n",
       "      <td>1.3</td>\n",
       "      <td>46205</td>\n",
       "    </tr>\n",
       "    <tr>\n",
       "      <th>2</th>\n",
       "      <td>1.5</td>\n",
       "      <td>37731</td>\n",
       "    </tr>\n",
       "    <tr>\n",
       "      <th>3</th>\n",
       "      <td>2.0</td>\n",
       "      <td>43525</td>\n",
       "    </tr>\n",
       "    <tr>\n",
       "      <th>4</th>\n",
       "      <td>2.2</td>\n",
       "      <td>39891</td>\n",
       "    </tr>\n",
       "  </tbody>\n",
       "</table>\n",
       "</div>"
      ],
      "text/plain": [
       "   YearsExperience  Salary\n",
       "0              1.1   39343\n",
       "1              1.3   46205\n",
       "2              1.5   37731\n",
       "3              2.0   43525\n",
       "4              2.2   39891"
      ]
     },
     "execution_count": 13,
     "metadata": {},
     "output_type": "execute_result"
    }
   ],
   "source": [
    "data_linear.head()"
   ]
  },
  {
   "cell_type": "code",
   "execution_count": 14,
   "id": "a971632b-81c9-4006-86d6-c6dcd5da278f",
   "metadata": {},
   "outputs": [
    {
     "data": {
      "text/plain": [
       "YearsExperience    0\n",
       "Salary             0\n",
       "dtype: int64"
      ]
     },
     "execution_count": 14,
     "metadata": {},
     "output_type": "execute_result"
    }
   ],
   "source": [
    "data_linear.isnull().sum()"
   ]
  },
  {
   "cell_type": "code",
   "execution_count": 20,
   "id": "65f61dcf-b3b3-48bc-8086-e0037d7620e1",
   "metadata": {},
   "outputs": [],
   "source": [
    "# spliting the feature and target\n",
    "\n",
    "X = data_linear.iloc[:,:-1].values\n",
    "Y = data_linear.iloc[:,1].values"
   ]
  },
  {
   "cell_type": "code",
   "execution_count": 22,
   "id": "c8bb7b27-4a5f-49c5-b9b6-33e761afe49f",
   "metadata": {},
   "outputs": [
    {
     "name": "stdout",
     "output_type": "stream",
     "text": [
      "[[ 1.1]\n",
      " [ 1.3]\n",
      " [ 1.5]\n",
      " [ 2. ]\n",
      " [ 2.2]\n",
      " [ 2.9]\n",
      " [ 3. ]\n",
      " [ 3.2]\n",
      " [ 3.2]\n",
      " [ 3.7]\n",
      " [ 3.9]\n",
      " [ 4. ]\n",
      " [ 4. ]\n",
      " [ 4.1]\n",
      " [ 4.5]\n",
      " [ 4.9]\n",
      " [ 5.1]\n",
      " [ 5.3]\n",
      " [ 5.9]\n",
      " [ 6. ]\n",
      " [ 6.8]\n",
      " [ 7.1]\n",
      " [ 7.9]\n",
      " [ 8.2]\n",
      " [ 8.7]\n",
      " [ 9. ]\n",
      " [ 9.5]\n",
      " [ 9.6]\n",
      " [10.3]\n",
      " [10.5]]\n"
     ]
    }
   ],
   "source": [
    "print (X)"
   ]
  },
  {
   "cell_type": "code",
   "execution_count": 24,
   "id": "b34de5bb-f051-405b-a81e-c2b0fc21342e",
   "metadata": {},
   "outputs": [
    {
     "name": "stdout",
     "output_type": "stream",
     "text": [
      "[ 39343  46205  37731  43525  39891  56642  60150  54445  64445  57189\n",
      "  63218  55794  56957  57081  61111  67938  66029  83088  81363  93940\n",
      "  91738  98273 101302 113812 109431 105582 116969 112635 122391 121872]\n"
     ]
    }
   ],
   "source": [
    "print(Y)"
   ]
  },
  {
   "cell_type": "code",
   "execution_count": 26,
   "id": "260cb7bc-15c1-4f30-8323-7a924889197d",
   "metadata": {},
   "outputs": [],
   "source": [
    "# spliting in to test and train\n",
    "\n",
    "X_test, X_train, Y_test, Y_train = train_test_split (X, Y,  test_size= 0.33, random_state= 2  )"
   ]
  },
  {
   "cell_type": "code",
   "execution_count": 28,
   "id": "28e7d81e-caa3-4e5f-87d5-4044ef2d875f",
   "metadata": {},
   "outputs": [
    {
     "name": "stdout",
     "output_type": "stream",
     "text": [
      "(30, 1) (10, 1) (20, 1)\n"
     ]
    }
   ],
   "source": [
    "print (X.shape, X_train.shape, X_test.shape)"
   ]
  },
  {
   "cell_type": "code",
   "execution_count": 30,
   "id": "a4393707-282b-4e81-95d7-20d304caa3bf",
   "metadata": {},
   "outputs": [],
   "source": [
    "# training the linear regression model \n",
    "\n",
    "model = Linear_Regression(learning_rate= 0.02, no_of_iterations= 10000)\n",
    "\n"
   ]
  },
  {
   "cell_type": "code",
   "execution_count": 32,
   "id": "d6707a75-5e96-4f96-ad4f-4f60689b752b",
   "metadata": {},
   "outputs": [],
   "source": [
    "model.fit ( X_train, Y_train)"
   ]
  },
  {
   "cell_type": "code",
   "execution_count": 34,
   "id": "03bb8a4d-f875-4ab2-be49-4f47a1174408",
   "metadata": {},
   "outputs": [
    {
     "name": "stdout",
     "output_type": "stream",
     "text": [
      "weight =  10105.30590017192\n",
      "bias =  26368.413216248668\n"
     ]
    }
   ],
   "source": [
    "# print the paremeter values\n",
    "\n",
    "print( 'weight = ', model.w[0])\n",
    "print('bias = ', model.b)"
   ]
  },
  {
   "cell_type": "code",
   "execution_count": 36,
   "id": "f30402cb-784b-448b-a466-ef091e040efb",
   "metadata": {},
   "outputs": [],
   "source": [
    "# predict the salary value for test data\n",
    "\n",
    "test_data_prediction = model.predict(X_test)"
   ]
  },
  {
   "cell_type": "code",
   "execution_count": 38,
   "id": "05f38227-e80c-4fa9-9df7-7338c16ad61b",
   "metadata": {},
   "outputs": [
    {
     "name": "stdout",
     "output_type": "stream",
     "text": [
      "[ 55673.80032675 123379.3498579   66789.63681694  48600.08619663\n",
      "  65779.10622692  77905.47330713 130453.06398802 117316.1663178\n",
      "  79926.53448716  41526.37206651  58705.3920968  122368.81926788\n",
      " 114284.57454774  85989.71802726  66789.63681694 106200.32982761\n",
      " 132474.12516805  67800.16740695  75884.41212709  58705.3920968 ]\n"
     ]
    }
   ],
   "source": [
    "print(test_data_prediction)"
   ]
  },
  {
   "cell_type": "code",
   "execution_count": 40,
   "id": "efaf5c64-179f-4a5a-b008-56ae6e657cbe",
   "metadata": {},
   "outputs": [
    {
     "name": "stdout",
     "output_type": "stream",
     "text": [
      "Shape of X_test: (20, 1)\n",
      "Shape of Y_test: (20,)\n"
     ]
    }
   ],
   "source": [
    "    print(\"Shape of X_test:\", X_test.shape)\n",
    "    print(\"Shape of Y_test:\", Y_test.shape)"
   ]
  },
  {
   "cell_type": "code",
   "execution_count": 218,
   "id": "b8a9ff5a-5ca5-45b8-9323-6a21b546a8a4",
   "metadata": {},
   "outputs": [],
   "source": [
    "# visualizing the predicted value and actual value "
   ]
  },
  {
   "cell_type": "code",
   "execution_count": 220,
   "id": "2f8a4fa6-3616-470a-8533-3130ba531aa8",
   "metadata": {},
   "outputs": [
    {
     "data": {
      "image/png": "[encoded data removed]",
      "text/plain": [
       "<Figure size 640x480 with 1 Axes>"
      ]
     },
     "metadata": {},
     "output_type": "display_data"
    }
   ],
   "source": [
    "plt.scatter(X_test, Y_test, color = 'red')\n",
    "plt.plot(X_test, test_data_prediction, color = 'blue')\n",
    "plt.xlabel('Work Experience')\n",
    "plt.ylabel('Salary')\n",
    "plt.title(' Work Experience vs Salary')\n",
    "plt.show()\n"
   ]
  },
  {
   "cell_type": "code",
   "execution_count": null,
   "id": "a4d9a71b-0d5b-484a-862f-c146fd166299",
   "metadata": {},
   "outputs": [],
   "source": []
  }
 ],
 "metadata": {
  "kernelspec": {
   "display_name": "Python [conda env:base] *",
   "language": "python",
   "name": "conda-base-py"
  },
  "language_info": {
   "codemirror_mode": {
    "name": "ipython",
    "version": 3
   },
   "file_extension": ".py",
   "mimetype": "text/x-python",
   "name": "python",
   "nbconvert_exporter": "python",
   "pygments_lexer": "ipython3",
   "version": "3.12.7"
  }
 },
 "nbformat": 4,
 "nbformat_minor": 5
}
